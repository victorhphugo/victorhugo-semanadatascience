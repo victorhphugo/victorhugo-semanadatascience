{
 "cells": [
  {
   "cell_type": "markdown",
   "metadata": {},
   "source": [
    "ORIENTAÇÃO A OBJETOS (IA)\n",
    "\n",
    "O QUE É?\n",
    "\n",
    "Em um contexto onde as inteligências artificiais estão crescendo, nós temos na programação de IA a orientação a objetos, que serve para estruturar um sistema de forma a trazer objetos inter-relacionados, podendo cada objeto ter responsabilidades específicas como métodos, atributos, comportamentos, entre outros... Que nós podemos criar para defini-los e, portanto, utilizá-los na programação!\n",
    "\n",
    "Para que serve?\n",
    "\n",
    "Quando falamos em inteligências artificiais, ter uma programação orientada a objetos é crucial para que possamos criar seus comportamentos, métodos e atributos. Assim, por exemplo, em um sistema de reconhecimento facial, é necessário criar objetos com funções específicas como capturar a imagem obtida, buscar em um banco de dados, realizar a verificação com base em determinados métodos, isso não só organiza o código de forma eficiente, mas também facilita a integração de novas funcionalidades e a manutenção do sistema ao longo do tempo.\n",
    "\n"
   ]
  },
  {
   "cell_type": "markdown",
   "metadata": {},
   "source": [
    "# PARADIGMAS\n",
    "\n",
    "-O que é?\n",
    "\n",
    "A programação orientada a objetos (OO), por exemplo, é um paradigma que organiza o software em objetos que interagem entre si. Portanto, um paradigma é um conjunto de princípios que guiam a forma como os programas são estruturados. Eles representam um estilo ou uma filosofia de programação que define como problemas devem ser abordados e como soluções devem ser concebidas. Por exemplo, inicialmente no curso aprendemos a programar de forma funcional com valores em variáveis estáticas. Agora, estamos aprendendo a programar orientada a objetos (OO), que é um paradigma que aborda métodos e atributos em objetos para serem inter-relacionados.\n",
    "\n",
    "-Para que serve?\n",
    "\n",
    "Paradigmas servem para definir uma forma de pensar, uma filosofia para a execução de diferentes soluções.\n",
    "\n",
    "\n",
    "\n",
    "\n"
   ]
  },
  {
   "cell_type": "markdown",
   "metadata": {},
   "source": [
    "# Objeto\n",
    "\n",
    "- O que é ?\n",
    "    - Um objeto é um conjunto de métodos, atributos, entre outras características que podem ser adicionadas. Isso permite que uma simples palavra de código ganhe uma função, uma verificação, um comportamento específico, os quais podem ser utilizados no desenvolvimento do software.\n",
    "\n",
    "- Para que serve?\n",
    "    - Serve para melhor estruturar o código, possibilitando o inter-relacionamento entre diferentes partes do sistema. Agrupa métodos que podem modificar os atributos conforme necessário durante o desenvolvimento do programa."
   ]
  },
  {
   "cell_type": "markdown",
   "metadata": {},
   "source": [
    "# Classe\n",
    "\n",
    "- O que é?\n",
    "    - Dentro do contexto anterior, uma classe é um conjunto de objetos que é definido pelas características das instâncias (objetos).\n",
    "\n",
    "- Para que serve?\n",
    "    - Serve para agrupar um conjunto de objetos para que possuam características e comportamentos específicos."
   ]
  },
  {
   "cell_type": "markdown",
   "metadata": {},
   "source": [
    "# Método\n",
    "\n",
    "- O que é ? para que serve?\n",
    "      - Métodos são funções definidas dentro de uma classe que permitem alterar o estado de um objeto ou realizar operações com os dados que pertencem a esse objeto."
   ]
  },
  {
   "cell_type": "markdown",
   "metadata": {},
   "source": [
    "# Herança \n",
    "\n",
    "- O que é ? para que serve ?\n",
    "\n",
    "    - dentro do contexto de classe , herança  possibilita a compartilhação dos atributos , metodos e outros membros da classe , assim uma classe base podendo compartilhar com outra classe que chamamos de derivada, \n",
    "    servido para facilitar o codigo reaproveitando o codigo ou algum comportamento generalizado e a tambem especializar operações ou atributos "
   ]
  },
  {
   "cell_type": "markdown",
   "metadata": {},
   "source": [
    "# Polimorfismo\n",
    "\n",
    "- o que é ? para que serve ?\n",
    "    - é um conceito que permite que objetos de diferentes classes possam ser tratados de maneira uniforme.\n",
    "    existindo 3 tipos sendo eles :\n",
    "    \n",
    "    - poliformismo de subtipo.\n",
    "    - Poliformismo Parametrico. \n",
    "    - Poliformismo de Sobrecarga. \n"
   ]
  },
  {
   "cell_type": "markdown",
   "metadata": {},
   "source": [
    "# Encapsulamento \n",
    "\n",
    "- O que é ? Para que serve ?\n",
    "    - é o conceito de agrupar ,juntar , combinar dados (atributos) e metodos , em um objeto, tendo diversos beneficios como ocultar os seus detalhes impedindo que eles seja alterados de maneira indevida como por exemplo um codigo de banco que tem nos seus objetos atributos e metodos que nao podem ser visualizados de maneira detalhada ou alterada . \n",
    "\n",
    "    - portanto de maneira praticar ao encapsular um objeto nos tambem temos funções como  deixar o objeto protegido ou privado. para que possam ser acessados ou nao fora da classe "
   ]
  }
 ],
 "metadata": {
  "language_info": {
   "name": "python"
  }
 },
 "nbformat": 4,
 "nbformat_minor": 2
}
