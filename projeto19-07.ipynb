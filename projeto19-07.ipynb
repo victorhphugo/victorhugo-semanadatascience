{
 "cells": [
  {
   "cell_type": "markdown",
   "metadata": {},
   "source": [
    "# MEDIA\n",
    "\n",
    "- O que é ? para que  serve ?\n",
    "\n",
    "- media é calculada como o nome ja diz para ter um valor medio dentre outros valores obtidos, sendo calculada de forma a somar todos os numeros da operação e o valor da operação sendo dividida pela quantidade de numeros que foram somados,\n",
    "sendo muito ultilizada em pre processamento de dados em inteligencias artificiais.\n",
    "\n",
    "exemplo :"
   ]
  },
  {
   "cell_type": "code",
   "execution_count": 2,
   "metadata": {},
   "outputs": [
    {
     "name": "stdout",
     "output_type": "stream",
     "text": [
      "9.5\n"
     ]
    }
   ],
   "source": [
    "num1 = 10\n",
    "num2 = 5\n",
    "num3 = 3\n",
    "num4 = 20\n",
    "\n",
    "soma = num1 + num2 + num3 + num4 \n",
    "\n",
    "media = soma / 4 # quantidade de numeros da variavel soma\n",
    "print(media)"
   ]
  },
  {
   "cell_type": "markdown",
   "metadata": {},
   "source": [
    "# MEDIANA\n",
    "\n",
    "é o elemento que esta ao centro de uma sequencia  por exemplo no caso de  uma lista : \n",
    "\n",
    "lista = [1,2,3,4,5,6,7,8,9]\n",
    "\n",
    "neste caso a mediana é mo numero 5.\n"
   ]
  },
  {
   "cell_type": "markdown",
   "metadata": {},
   "source": [
    "# MODA \n",
    "é o elemento que aparece reptido sendo classificado bimodal para quando se repete uma vez ou multimodal para quando se repete mais de 1 vez .\n",
    "exemplo:\n",
    "\n",
    "lista = [2,5,9,8,5,6,3,4] \n",
    "\n",
    "lista bimodal elemento 5 se repetindo 1 vez.\n",
    "\n",
    "lista = [2,3,8,9,6,4,5,2,1,2] \n",
    "\n",
    "lista multimodal elemnto 2 se repetindo 2 vezes ."
   ]
  },
  {
   "cell_type": "markdown",
   "metadata": {},
   "source": [
    "# Quartis\n",
    "\n",
    "de maneira mais geral é dividir um conjunto de elementos ordenados em partes iguais no caso (quartil) = 4 partes.\n",
    "mas para caso nao tenha como dividir em partes iguais é calculado uma porcentagem para fazer sua divisao \n"
   ]
  },
  {
   "cell_type": "markdown",
   "metadata": {},
   "source": [
    "# Desvio padrao \n",
    "\n",
    "- É uma medida que calcula o grau de variação dos dados em relaçao a media .\n",
    "serve para entender a consistência ou a dispersão dos dados em relaçao a media ."
   ]
  }
 ],
 "metadata": {
  "kernelspec": {
   "display_name": ".venv",
   "language": "python",
   "name": "python3"
  },
  "language_info": {
   "codemirror_mode": {
    "name": "ipython",
    "version": 3
   },
   "file_extension": ".py",
   "mimetype": "text/x-python",
   "name": "python",
   "nbconvert_exporter": "python",
   "pygments_lexer": "ipython3",
   "version": "3.12.4"
  }
 },
 "nbformat": 4,
 "nbformat_minor": 2
}
