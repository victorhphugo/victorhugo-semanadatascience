{
 "cells": [
  {
   "cell_type": "markdown",
   "metadata": {},
   "source": [
    "## -----------------RESUMÃO--------------------\n",
    "- AULA 2 \n",
    "- DATA :   01/07/2024"
   ]
  },
  {
   "cell_type": "markdown",
   "metadata": {},
   "source": [
    "# Declarando variaveis\n"
   ]
  },
  {
   "cell_type": "code",
   "execution_count": 9,
   "metadata": {},
   "outputs": [
    {
     "name": "stdout",
     "output_type": "stream",
     "text": [
      "============================== INFORMAÇÕES PESSOAIS ==============================\n",
      "Nome : victor hugo\n",
      "Idade : 25\n",
      "peso : 110.5\n",
      "victor hugo <class 'str'>\n",
      "\n",
      "<class 'int'>\n",
      "<class 'float'>\n",
      "<class 'bool'>\n"
     ]
    }
   ],
   "source": [
    "nome = 'victor hugo' #string\n",
    "idade = 25 # inteiro\n",
    "peso =  110.5 # float numerais com virgula devem ser colocados com ponto. dps serão tratados ----\n",
    "altura = 1.75 # float\n",
    "aluno = True # boolean\n",
    "print(30*'=','INFORMAÇÕES PESSOAIS',30*'=' )\n",
    "print(f'Nome : {nome}')\n",
    "print(f'Idade : {idade}')\n",
    "print(f'peso : {peso}')\n",
    "print(nome, type(nome))  ##comando para dizer qual a classe do valor da variavel !----------\n",
    "print()\n",
    "print(type(idade))\n",
    "print(type(altura))\n",
    "print(type(aluno))"
   ]
  },
  {
   "cell_type": "markdown",
   "metadata": {},
   "source": [
    "## CONVERTENDO TIPOS DE DADOS \n",
    "- função------------ numero =int(numero) "
   ]
  },
  {
   "cell_type": "code",
   "execution_count": 24,
   "metadata": {},
   "outputs": [
    {
     "name": "stdout",
     "output_type": "stream",
     "text": [
      "valor sem conversão <class 'str'>\n",
      "valor sem conversão <class 'int'>\n",
      "valor com conversão:  <class 'int'>\n",
      "\n",
      "valor CONVERTIDO: <class 'int'>\n",
      "110\n"
     ]
    }
   ],
   "source": [
    "## neste caso o progama identifica a string quando colocada entre as aspas 'string'\n",
    "## identifica como numero INTEIRO quando colocado apenas um numero .\n",
    "## identifica como float quando colocada com ponto (110.10) pelo proprio progama .\n",
    "## NESTE CASO se quisermos converter de (float) para (inteira) desconsiderando o numero apos a virgula usamos  o seguinte codigo abaixo.\n",
    "## valor3 = int(valor3) ----- neste caso ela foi convertida de FLOAT para INTEIRA !!!\n",
    "\n",
    "valor1 = 'victor'\n",
    "valor2 = 25\n",
    "valor3 = 110.10\n",
    "valor3 = int(valor3)\n",
    "print('valor sem conversão',type(valor1))  #--------\n",
    "print('valor sem conversão',type(valor2))  #--------\n",
    "print('valor com conversão: ', type(valor3))#--------\n",
    "print()\n",
    "print('valor CONVERTIDO:',type(valor3))     #--------\n",
    "print(valor3)"
   ]
  },
  {
   "cell_type": "markdown",
   "metadata": {},
   "source": [
    "## CONCATENAÇÃO\n",
    " - Concatenação usando o sinal de + ,  \n",
    " nao é possivel concatenar variaveis do tipo int(inteiro) ."
   ]
  },
  {
   "cell_type": "code",
   "execution_count": 1,
   "metadata": {},
   "outputs": [
    {
     "name": "stdout",
     "output_type": "stream",
     "text": [
      "ola, meu nome é victor hugo! tenho 25 anos de idade\n",
      "ola, meu nome é  victor hugo  tenho  25 anos de idade\n",
      "ola, meu nome é victor hugo e tenho 25 anos de idade!\n"
     ]
    }
   ],
   "source": [
    "nome = 'victor hugo'\n",
    "idade = 25\n",
    "altura = 1.75\n",
    "\n",
    "# modo 1\n",
    "print('ola, meu nome é '+ nome + '! tenho '+ str(idade) + ' anos de idade')\n",
    "\n",
    "# modo 2\n",
    "print('ola, meu nome é ', nome,' tenho ', idade, 'anos de idade')\n",
    "\n",
    "# modo 3\n",
    "print(f'ola, meu nome é {nome} e tenho {idade} anos de idade!') # modo mais usado print(f' ola mundo')"
   ]
  },
  {
   "cell_type": "markdown",
   "metadata": {},
   "source": [
    "## ENTRADA DE DADOS \n",
    "- FUNÇÃO-------           input('digite o texto:')"
   ]
  },
  {
   "cell_type": "code",
   "execution_count": 4,
   "metadata": {},
   "outputs": [
    {
     "name": "stdout",
     "output_type": "stream",
     "text": [
      "----------------------------------- RECEBENDO DADOS -----------------------------------\n",
      "Nome: Victor Hugo Silva Palmeira\n",
      "Idade:  25 anos\n"
     ]
    }
   ],
   "source": [
    "print(35*'-','RECEBENDO DADOS',35*'-')\n",
    "nome = input('Digite seu nome completo:') ## ABRE UM TERMINAL  PARA RECEBER DADOS . NESTE CADOS A VARIAVEL NOME RECEBE E GUARDA O VALOR\n",
    "print(f'Nome: {nome}')\n",
    "idade = int(input('Digite sua idade: '))\n",
    "print(f'Idade:  {idade} anos')"
   ]
  },
  {
   "cell_type": "markdown",
   "metadata": {},
   "source": [
    "## ATIVIDADE AULA 2\n",
    "- Criar um sistema para receber o nome, idade, peso e altura do usuario\n",
    "- Restringir a idade para receber somente valores inteiros\n",
    "- Restringir a altura e peso para o tipo float\n",
    "- Imprimam todas as informações do usuário usando a concatenação f string\n",
    "- Imprimam o Tipo de dado de cada uma das variaveis\n"
   ]
  },
  {
   "cell_type": "code",
   "execution_count": 12,
   "metadata": {},
   "outputs": [
    {
     "name": "stdout",
     "output_type": "stream",
     "text": [
      "Ola, o meu nome é victor hugo silva palmeira \n",
      "eu tenho 25 anos \n",
      "peso 110.0  \n",
      "altura 1.75\n"
     ]
    }
   ],
   "source": [
    "\n",
    "nome = input('Digite seu nome: ')\n",
    "idade = int(input('Digite sua idade: '))     ## RESTRINGIDO INT\n",
    "peso = float(input('Digite seu peso: '))     ## RESTRINGIDO FLOAT\n",
    "altura = float(input(\"Digite sua altura: \")) ## RESTRINGIDO FLOAT\n",
    "## f string usado !\n",
    "print(f'Ola, o meu nome é {nome} \\neu tenho {idade} anos \\npeso {peso}  \\naltura {altura}')            ## ULTILIZADO ---\\n--- para quebrar a linha no front dentro do codigo. \n",
    "## DADOS IMPRESSOS"
   ]
  },
  {
   "cell_type": "markdown",
   "metadata": {},
   "source": [
    "## Revisão aula 2\n",
    "- DATA : 01/07/2024\n",
    "\n",
    "- Variáveis\n",
    "    - Para que serve as variáveis?\n",
    "        - Espaço na memoria e serve para armazenar um valor.\n",
    "    - Como declaro variáveis no python?\n",
    "        - Passo o nome da variavel e atribuo um valor a ela.\n",
    "    - Qual sinal para atribuir o valor a uma variavel?\n",
    "        - sinal de =\n",
    "    - Como definir o tipo de dado de uma variavel, se é numerico, textual, ou booleano?\n",
    "        - o paython define automaticamente\n",
    "    - Como verificar o tipo de dado de uma variável?\n",
    "        - usar a função print(type(variavel))\n",
    "    - Como converter o tipo de uma variavel\n",
    "        - usando a função do tipo desejado variavel = int(variavel)\n",
    "\n",
    "- Concatenação\n",
    "    - Como concatenar valores no python\n",
    "    - Quais os 3 tipos de concatenação e as especificações de cada uma?\n",
    "        - Com sinal de + a , e f string\n",
    "    - Como usar a concatenação f string?\n",
    "        - usando f e as {}\n",
    "    - É possível concatenar uma variável do tipo inteiro? Como?\n",
    "\n",
    "- Dados entrada/saida\n",
    "    - Como imprimir o texto ('Ola mundo!') no console?\n",
    "        - função print('')\n",
    "    - Como imprimir o valor de uma variável?\n",
    "        - print(variavel)\n",
    "    - Como imprimir um texto e uma variável?\n",
    "    - Como solicitar ao usuario inserir uma informação pelo console?\n",
    "        - usando a função input()\n",
    "    - Como restringir uma entrada para que seja de um tipo de dado específico?\n",
    "\n"
   ]
  },
  {
   "cell_type": "markdown",
   "metadata": {},
   "source": [
    "## Operadores AULA 3\n",
    "- DATA : 02/07/2024\n",
    "\n",
    "    - soma\n",
    "    - subtração\n",
    "    - multiplicação\n",
    "    -  divisão"
   ]
  },
  {
   "cell_type": "code",
   "execution_count": 20,
   "metadata": {},
   "outputs": [
    {
     "name": "stdout",
     "output_type": "stream",
     "text": [
      "20\n",
      "\n",
      "aqui o valor foi concatenado = 1010 CUIDADO!\n",
      "\n",
      "20\n",
      "\n",
      "O resultado da soma é : 20\n"
     ]
    }
   ],
   "source": [
    "# Soma\n",
    "print(10+10)\n",
    "print()\n",
    "#  ATENÇÃO PARA NAO concatenar !\n",
    "print('aqui o valor foi concatenado = '+'10'+'10' + ' CUIDADO!')\n",
    "print()\n",
    "# somando com variáveis\n",
    "num1 = 10\n",
    "num2 = 10\n",
    "\n",
    "soma = num1 + num2 ## Defina outra variavel para fazer guardar a operação desejada.\n",
    "print(soma) ## Imprima \n",
    "print()\n",
    "##acima é um exemplo \n",
    "valor1 = input('Digite o primeiro valor: ')\n",
    "valor1 = int(valor1)\n",
    "\n",
    "valor2 = input('Digite o segundo valor: ')\n",
    "valor2 = int(valor2)\n",
    "\n",
    "resultado = valor1 + valor2\n",
    "print(f'O resultado da soma é : {resultado}')"
   ]
  },
  {
   "cell_type": "code",
   "execution_count": 23,
   "metadata": {},
   "outputs": [
    {
     "name": "stdout",
     "output_type": "stream",
     "text": [
      "20\n",
      "\n",
      "Resultado da subtração é : 0\n"
     ]
    }
   ],
   "source": [
    "# Subtração\n",
    "\n",
    "num1 = 70\n",
    "num2 = 50\n",
    "\n",
    "subtracao = num1 - num2\n",
    "print(subtracao)\n",
    "print()\n",
    "valor1 = int(input(\"Digitar primeiro numero: \"))\n",
    "valor2 = int(input(\"Digite o segundo valor: \"))\n",
    "\n",
    "resultado = valor1 - valor2\n",
    "print(f\"Resultado da subtração é : {resultado}\")"
   ]
  },
  {
   "cell_type": "code",
   "execution_count": 30,
   "metadata": {},
   "outputs": [
    {
     "name": "stdout",
     "output_type": "stream",
     "text": [
      "O resultado da divisçao é: 2.0\n",
      "<class 'int'>\n",
      "<class 'float'>\n"
     ]
    }
   ],
   "source": [
    "## Divisão\n",
    "\n",
    "num1 = 20\n",
    "num2 = 10\n",
    "divisao = num1 / num2\n",
    "print(f'O resultado da divisçao é: {divisao}')\n",
    "print(type(num1))          ## Antes a operação o progama identifica como INTEIRO.\n",
    "print(type(divisao))       ## Apos a operação progama identifica como FLOAT. "
   ]
  },
  {
   "cell_type": "code",
   "execution_count": 37,
   "metadata": {},
   "outputs": [
    {
     "name": "stdout",
     "output_type": "stream",
     "text": [
      "O resultado da divisão é : 200\n",
      "<class 'int'>\n"
     ]
    }
   ],
   "source": [
    "# MULTIPLICAÇÃO\n",
    "\n",
    "num1 = 10\n",
    "num2 = 20\n",
    "multiplica = num1 * num2\n",
    "print(f'O resultado da divisão é : {multiplica}') \n",
    "print(type(multiplica))   "
   ]
  },
  {
   "cell_type": "markdown",
   "metadata": {},
   "source": [
    "## Atividade\n",
    "#### Desafio 1 \n",
    "- Declare 2 variáveis, cada uma com um valor definido. Some e mostre o resultado concatenado a um texto.\n",
    "\n",
    "#### Desafio 2\n",
    "- Crie um sistema onde o usuário irá inserir 2 valores, guarde-os em variaveis, e em seguida realize as 4 operações matemáticas basicas (+, -, *, /) e mostre o resultado de cada uma na tela com um texto indicando qual operação foi realizada.\n",
    "\n",
    "#### Desafio 3\n",
    "- Crie um sistema que receba o nome do usuario, a idade, so podendo receber um valor inteiro, em seguida mostre as informações obtidas (nome e idade) e peça ao usuario que digite 2 números para que sejam somados, mostre a soma dos 2 numeros."
   ]
  },
  {
   "cell_type": "code",
   "execution_count": 39,
   "metadata": {},
   "outputs": [
    {
     "name": "stdout",
     "output_type": "stream",
     "text": [
      "O resultado de 20 + 20 é : 40\n"
     ]
    }
   ],
   "source": [
    "# resposta 1\n",
    "\n",
    "vlr1 = 20\n",
    "vlr2 = 20\n",
    "\n",
    "soma = vlr1 + vlr2\n",
    "print(f\"O resultado de {vlr1} + {vlr2} é : {soma}\")"
   ]
  },
  {
   "cell_type": "code",
   "execution_count": 40,
   "metadata": {},
   "outputs": [
    {
     "name": "stdout",
     "output_type": "stream",
     "text": [
      "O resultado da soma de 10 + 10 é: 20\n",
      "O resultado da divisao de 10 / 10 é: 1.0\n",
      "O resultado da multiplicação de 10 * 10 é: 100\n",
      "O resultado da subtração de 10 - 10 é: 0\n"
     ]
    }
   ],
   "source": [
    "# resposta 2\n",
    "\n",
    "num1 = int(input(\"Digite um numero inteiro: \"))\n",
    "num2 = int(input(\"Digite outro numero inteiro: \"))\n",
    "\n",
    "soma = num1 + num2\n",
    "divisao = num1 / num2\n",
    "multiplicacao = num1 * num2\n",
    "subtracao = num1 - num2\n",
    "\n",
    "print(f'O resultado da soma de {num1} + {num2} é: {soma}')\n",
    "print(f'O resultado da divisao de {num1} / {num2} é: {divisao}')\n",
    "print(f'O resultado da multiplicação de {num1} * {num2} é: {multiplicacao}')\n",
    "print(f'O resultado da subtração de {num1} - {num2} é: {subtracao}')"
   ]
  },
  {
   "cell_type": "code",
   "execution_count": 42,
   "metadata": {},
   "outputs": [
    {
     "name": "stdout",
     "output_type": "stream",
     "text": [
      "Meu nome é victor \n",
      "eu tenho 25 anos!\n",
      "A soma dos números 300 + 1500 é: 1800\n"
     ]
    }
   ],
   "source": [
    "# resposta 3\n",
    "\n",
    "nome = input(\"Digite seu nome: \")\n",
    "idade = int(input(\"Digite sua idade: \"))  #restringido\n",
    "\n",
    "print(f'Meu nome é {nome} \\neu tenho {idade} anos!')\n",
    "\n",
    "numero1 = int(input(\"Digite o primeiro numero para somar: \"))\n",
    "numero2 = int(input(\"Digite o segundo numero: \"))\n",
    "\n",
    "soma = numero1 + numero2\n",
    "print(f\"A soma dos números {numero1} + {numero2} é: {soma}\")"
   ]
  },
  {
   "cell_type": "markdown",
   "metadata": {},
   "source": [
    "## Revisão\n",
    "- Como somar um numéro?\n",
    "    - somente somo números inteiros e não string\n",
    "- Qual passo ideal para fazer as operações matemáticas?\n",
    "    - Converter o input para um numero inteiro\n",
    "- Qual tipo de dado retorna de uma divisão?\n",
    "    - Tipo float"
   ]
  },
  {
   "cell_type": "markdown",
   "metadata": {},
   "source": [
    "## AULA 4 \n",
    "\n",
    "- DATA 03/07/2024\n",
    "\n",
    "    - RESTO----%\n",
    "    - EXPONENCIAÇÃO-----** "
   ]
  },
  {
   "cell_type": "code",
   "execution_count": 46,
   "metadata": {},
   "outputs": [
    {
     "name": "stdout",
     "output_type": "stream",
     "text": [
      "Divisao inteira: 1\n",
      "Divisao normal: 1.0\n",
      "Resto: 0\n",
      "Exponenciação: 3125\n"
     ]
    }
   ],
   "source": [
    "n1 = input(\"Digite o primeiro numero: \")\n",
    "n2 = input(\"Digite o segundo numero: \")\n",
    "\n",
    "# Convertendo as entradas para inteiro\n",
    "n1 = int(n1)\n",
    "n2 = int(n2)\n",
    "\n",
    "divisao_inteira = n1 // n2\n",
    "divisao = n1 / n2\n",
    "resto = n1 % n2             ## USADO PARA RESTO \n",
    "expo = n1 ** n2             ## USADA PARA EXPONENSIAÇÃO\n",
    "\n",
    "print(f'Divisao inteira: {divisao_inteira}')\n",
    "print(f'Divisao normal: {divisao}')\n",
    "print(f'Resto: {resto}')\n",
    "print(f'Exponenciação: {expo}')"
   ]
  },
  {
   "cell_type": "code",
   "execution_count": 50,
   "metadata": {},
   "outputs": [
    {
     "name": "stdout",
     "output_type": "stream",
     "text": [
      "Resultado de atribuição de subtração: 5\n"
     ]
    }
   ],
   "source": [
    "# Atribuição subtração\n",
    "\n",
    "valor = 10\n",
    "valor -= 5\n",
    "print(f'Resultado de atribuição de subtração: {valor}')"
   ]
  },
  {
   "cell_type": "code",
   "execution_count": 52,
   "metadata": {},
   "outputs": [
    {
     "name": "stdout",
     "output_type": "stream",
     "text": [
      "Resultado de atribuição de soma: 22\n"
     ]
    }
   ],
   "source": [
    "# Atribuição de soma\n",
    "valor8 = 12\n",
    "valor8 += 10         ## ATENÇÃO !! ATRIBUIÇÃO \n",
    "print(f'Resultado de atribuição de soma: {valor8}')"
   ]
  },
  {
   "cell_type": "code",
   "execution_count": 53,
   "metadata": {},
   "outputs": [
    {
     "name": "stdout",
     "output_type": "stream",
     "text": [
      "Resultado de atribuição de multiplicação: 100\n"
     ]
    }
   ],
   "source": [
    "# Atribuição de multiplicação\n",
    "\n",
    "valor10 = 10\n",
    "valor10 *= 10                 ## colocar o sinal antes do igual.\n",
    "print(f'Resultado de atribuição de multiplicação: {valor10}')"
   ]
  },
  {
   "cell_type": "code",
   "execution_count": 54,
   "metadata": {},
   "outputs": [
    {
     "name": "stdout",
     "output_type": "stream",
     "text": [
      "Resultado de atribuição de divisão: 1.0\n"
     ]
    }
   ],
   "source": [
    "# Atribuição de divisão\n",
    "valor11=10\n",
    "valor11 /= 10\n",
    "print(f'Resultado de atribuição de divisão: {valor11}')"
   ]
  },
  {
   "cell_type": "code",
   "execution_count": 57,
   "metadata": {},
   "outputs": [
    {
     "name": "stdout",
     "output_type": "stream",
     "text": [
      "Resultado de atribuição de divisão inteira: 0\n"
     ]
    }
   ],
   "source": [
    "# Atribuição de divisão inteira \n",
    "valor12 = \n",
    "valor12 //= 10\n",
    "print(f'Resultado de atribuição de divisão inteira: {valor12}')\n",
    "## neste tipo de divisão ele simplesmente ignora o que tem depois da virgula\n",
    "## por isso o resultado é zero "
   ]
  },
  {
   "cell_type": "code",
   "execution_count": 66,
   "metadata": {},
   "outputs": [
    {
     "name": "stdout",
     "output_type": "stream",
     "text": [
      "Resultado da atribuição de modulo: 0.8000000000000018\n"
     ]
    }
   ],
   "source": [
    "# Atribuição de modulo\n",
    "valor13= 50\n",
    "valor13 %= 1.2\n",
    "print(f'Resultado da atribuição de modulo: {valor13}')"
   ]
  },
  {
   "cell_type": "markdown",
   "metadata": {},
   "source": [
    "## Atividade\n",
    "- Crie um programa para o Boletim de notas do aluno. Guarde o nome do aluno, as notas e caulcule a media final do aluno.\n",
    "- Disciplinas:\n",
    "    - Matemática\n",
    "    - Português\n",
    "    - Geografia\n",
    "    - Historia\n",
    "    - Física\n",
    "\n",
    "- Ao obter as notas e a media das notas, imprima o boletim do aluno informando as notas das materias e com quanto ele ficou de madia"
   ]
  },
  {
   "cell_type": "markdown",
   "metadata": {},
   "source": [
    "## Duvida 2"
   ]
  },
  {
   "cell_type": "code",
   "execution_count": 3,
   "metadata": {},
   "outputs": [
    {
     "name": "stdout",
     "output_type": "stream",
     "text": [
      "------------------------------ BOLETIM ESCOLAR ------------------------------\n",
      "Nome do Aluno: victor\n",
      "Matemática: 10.0\n",
      "Português: 10.0\n",
      "Geografia: 10.0\n",
      "História: 10.0\n",
      "Física: 10.0\n",
      "A média geral do aluno foi: 10.00\n",
      "------------------------------------------------------------\n"
     ]
    }
   ],
   "source": [
    "# Resolução do Desafio\n",
    "\n",
    "print(30*\"-\", \"BOLETIM ESCOLAR\", 30*\"-\")\n",
    "nome = input(\"Digite o nome do aluno: \")\n",
    "\n",
    "not1 = input('Digite a nota de Matemática: ')\n",
    "not2 = input('Digite a nota de Português: ')\n",
    "not3 = input('Digite a nota de Geografia: ')\n",
    "not4 = input('Digite a nota de História: ')\n",
    "not5 = input('Digite a nota de Física: ')\n",
    "\n",
    "not1 = float(not1)\n",
    "not2 = float(not2)\n",
    "not3 = float(not3)\n",
    "not4 = float(not4)\n",
    "not5 = float(not5)\n",
    "\n",
    "media = (not1 + not2 + not3 + not4 + not5)/5\n",
    "\n",
    "print(f'Nome do Aluno: {nome}')\n",
    "print(f'Matemática: {not1}')\n",
    "print(f'Português: {not2}')\n",
    "print(f'Geografia: {not3}')\n",
    "print(f'História: {not4}')\n",
    "print(f'Física: {not5}')\n",
    "print(f'A média geral do aluno foi: {media:.2f}') ## Duvida para que serve--- :.2f----\n",
    "print(60*\"-\")\n"
   ]
  },
  {
   "cell_type": "markdown",
   "metadata": {},
   "source": [
    "## Revisão aula 04 GITHUB\n",
    "- DATA: 03/07/2024 \n",
    "\n",
    "- Comandos git\n",
    "    - Qual primeiro comado para iniciar novo repositorio\n",
    "    - git init\n",
    "    - Cria o repositório na maquina\n",
    "    - Configurando credenciais git config --global user.email (user.name)\n",
    "    - Verificar o estado do projeto com o comando git status\n",
    "    -   Adicionar os arquivos ao commit com git add .\n",
    "    - Em seguida fazer o git commit -m \"mensagem\"\n",
    "    - Verificar se o repositorio remoto esta conectado com git remote -v\n",
    "    - Fazer o push para empurrar os arquivos para nuvem github"
   ]
  },
  {
   "cell_type": "markdown",
   "metadata": {},
   "source": [
    "## Aula 5 \n",
    "\n",
    "- DATA 04/07/2024"
   ]
  },
  {
   "cell_type": "markdown",
   "metadata": {},
   "source": [
    "## condições ---IF ---ELSE"
   ]
  },
  {
   "cell_type": "code",
   "execution_count": 75,
   "metadata": {},
   "outputs": [
    {
     "name": "stdout",
     "output_type": "stream",
     "text": [
      "Acesso Negado !!\n"
     ]
    }
   ],
   "source": [
    "## a varaiavel idade recebeu um valor  \n",
    "\n",
    "idade = 15\n",
    "## if foi usado para aplicaR UMA CONDIÇÃO : se caso a idade for maior que 18 imprima a informação \n",
    "if idade >=18:\n",
    "    print('acesso liberado ! \\nSeja Bem Vindo!!! ')\n",
    "\n",
    "else: ## para n ficar redundante e ja sabendo que se a idade for menor que 18 imprime acesso negado !\n",
    "    print('Acesso Negado !!')\n"
   ]
  },
  {
   "cell_type": "markdown",
   "metadata": {},
   "source": [
    "## condição if-----elif----else   @ ATENÇÃO @"
   ]
  },
  {
   "cell_type": "code",
   "execution_count": 80,
   "metadata": {},
   "outputs": [
    {
     "name": "stdout",
     "output_type": "stream",
     "text": [
      "aluno aprovado\n"
     ]
    }
   ],
   "source": [
    "nota = 9.5\n",
    "\n",
    "if nota >= 7:               ## primeira condição se a nota for maior que 7 ele imprime \"aluno aprovado\"\n",
    "    print(\"aluno aprovado\")\n",
    "elif nota >=5:              ## se a condição acima nao for atendida ele nao imprime a primeira condição e pula para verificar a segunda condição \n",
    "    print(\"Esta de recuperação\")## ela sendo atendida : nota sendo maior ou igual a 5 ele imprime (esta de reculperação)\n",
    "else:                       ## novamente para nao ficar redundante se a nota nao for maior 7 ou maior que 5 , ela so pode ser menor que 5 , por isso nao é necessario descrever a condição para else \n",
    "    print(\"reprovado\")      ## portanto a nota sendo menor que 5 ele imprime (reprovado)\n",
    " "
   ]
  },
  {
   "cell_type": "markdown",
   "metadata": {},
   "source": [
    "## condição if----OR-----AND............ELSE\n",
    "\n",
    "- IF é ultilizado para verificar o (codigo) e se caso atender UMA condição, para  executar O proximo comando IDENTADO dentro de IF !\n",
    "\n",
    "- AND é ultilizado junto a if para que atenda a 2 cobndições juntas na linha.\n",
    "        - Somente sendo executado atendendo as duas condições JUNTAS !!! \n",
    "        - EXECUTANDO O QUE ESTIVER (IDENTADO) DENTRO DO BLOCO .\n",
    "\n",
    "- OR É ultilizado dentro de IF para verificar O (CODIGO), se  atender  ou UMA ou OUTRA CONDIÇÃO .(NAO NECESSARIAMENTE SENDO NECESSARIO ATENDER AS DUAS )\n",
    "        - EXECUTAR O QUE ESTIVER IDENTADO DENTRO DO BLOCO CORRESPONDENTE!!\n",
    "    "
   ]
  },
  {
   "cell_type": "code",
   "execution_count": 85,
   "metadata": {},
   "outputs": [
    {
     "name": "stdout",
     "output_type": "stream",
     "text": [
      "Pode brincar na montanha russa!\n"
     ]
    }
   ],
   "source": [
    "idade = 18\n",
    "altura = 1.5\n",
    "# and\n",
    "# or \n",
    "\n",
    "if idade >= 18 and altura > 1.60: ## APLICAÇÃO DE AND (pode substituir por OR )\n",
    "    print('Pode brincar na montanha russa!')\n",
    "else:\n",
    "    print('Não pode brincar')\n"
   ]
  },
  {
   "cell_type": "markdown",
   "metadata": {},
   "source": [
    "## Desafio \n",
    "- Usando o conceito de operadores e if else, crie um programa que verifica se o numero é par ou impar."
   ]
  },
  {
   "cell_type": "code",
   "execution_count": 2,
   "metadata": {},
   "outputs": [
    {
     "name": "stdout",
     "output_type": "stream",
     "text": [
      "---------- VERIFICA SE PAR OU IMPAR ----------\n",
      "O numero 24 é par!\n"
     ]
    }
   ],
   "source": [
    "print(10*\"-\",\"VERIFICA SE PAR OU IMPAR\",10*\"-\")\n",
    "num = input(\"Digite um número: \")\n",
    "num = int(num)\n",
    "\n",
    "# verifica se o resto da divisao do numero por 2 é igual a 0\n",
    "if num % 2 == 0:\n",
    "    print(f\"O numero {num} é par!\")\n",
    "else:\n",
    "    print(f\"O numero {num} é impar!\")"
   ]
  },
  {
   "cell_type": "markdown",
   "metadata": {},
   "source": [
    "## Desafio 2\n",
    "- Um elevador de carga possui capacidade para 200kg.\n",
    "    - Crie um programa que receba do usuario o peso da carga, e o seu peso e verifica se a carga esta autorizada a usar o elevador ou não."
   ]
  },
  {
   "cell_type": "code",
   "execution_count": 88,
   "metadata": {},
   "outputs": [
    {
     "name": "stdout",
     "output_type": "stream",
     "text": [
      "Não pode usar o elevador\n"
     ]
    }
   ],
   "source": [
    "# Correção\n",
    "\n",
    "usuario = input(\"Digite seu peso: \")\n",
    "carga = input(\"Digite o peso da carga: \")\n",
    "\n",
    "usuario = int(usuario)\n",
    "carga = int(carga)\n",
    "\n",
    "peso_total = usuario + carga\n",
    "#capacidade = 200\n",
    "\n",
    "if peso_total <= 200:\n",
    "    print(\"Pode usar o elevador!\")\n",
    "else:\n",
    "    print(\"Não pode usar o elevador\")"
   ]
  },
  {
   "cell_type": "code",
   "execution_count": 90,
   "metadata": {},
   "outputs": [
    {
     "name": "stdout",
     "output_type": "stream",
     "text": [
      "O VICTOR foi aprovado!\n"
     ]
    }
   ],
   "source": [
    "nome = 'VICTOR'\n",
    "nota = 7\n",
    "\n",
    "if nota >= 7:\n",
    "    print(f\"O {nome} foi aprovado!\")\n",
    "elif nota >= 5:\n",
    "    print(f\"o {nome} esta de recuperação!\")\n",
    "else:\n",
    "    print(f\"O {nome} está reprovado!\")\n"
   ]
  },
  {
   "cell_type": "markdown",
   "metadata": {},
   "source": [
    "## Desafio 3\n",
    "- Crie um sistema para coletar os dados do aluno, (nome, idade, cpf), em seguida solicite as notas dos 4 bimestres da diciplina de Python que o aluno teve para verificar a MEDIA.\n",
    "    - Media para aprovação >= 7\n",
    "    - Media para recuperação >= 5\n",
    "    - Media para reprovação < 5 (somente else)\n",
    "- Para retirar o boletim de notas, o aluno precisa ser maior de idade(18) e caso não seja, somente os pais podem retirar o boletim.\n",
    "    - Imprima as informações do aluno\n",
    "    - Imprima as notas do aluno em cada bimestre\n",
    "    - Imprima a situação do aluno (aprovado, reprovado, recuperação)\n",
    "    - Imprima se o boletim sera retirado pelos pais ou pelo proprio aluno\n"
   ]
  },
  {
   "cell_type": "code",
   "execution_count": 4,
   "metadata": {},
   "outputs": [
    {
     "name": "stdout",
     "output_type": "stream",
     "text": [
      "------------------------------ Boletim escolar! ------------------------------\n",
      "Aluno: victor hugo silva palmeira\n",
      "Nota 1 : 8.0\n",
      "Nota 2 : 8.0\n",
      "Nota 3 : 8.0\n",
      "Nota 4 : 8.0\n",
      "Media das notas : 8.0\n",
      "Parabéns, você está aprovado!\n"
     ]
    }
   ],
   "source": [
    "# CRIAR PRIMEIRAMENTE TODA A ENTRADA DE DADOS \n",
    "# FORMATAR OS DADOS PARA SEREM ULTILIZADOS.\n",
    "# DELIMITAR A FUNÇÃO PARA RECEBER VALOR DA MEDIA\n",
    "# PARA IMPRIMIR É NECESSARIO IDENTAR PRINT DENTRO DAS CONDIÇÕES PARA VERIFICAR SE PODE \n",
    "#APRENSENTAR OS DADOS OU NAO ASSIM USANDO IF\n",
    "nome = input(\"Digite o nome do aluno: \").lower()\n",
    "cpf = input(\"Digiteo o cpf do aluno : \")\n",
    "idade = input(\"Digite a idade do aluno: \")\n",
    "idade = int(idade)\n",
    "\n",
    "nota1 = input(\"Digite a nota do 1° Bimestre: \")\n",
    "nota2 = input(\"Digite a nota do 2° Bimestre: \")\n",
    "nota3 = input(\"Digite a nota do 3° Bimestre: \")\n",
    "nota4 = input(\"Digite a nota do 4° Bimestre: \")\n",
    "\n",
    "nota1 = float(nota1)\n",
    "nota2 = float(nota2)\n",
    "nota3 = float(nota3)\n",
    "nota4 = float(nota4)\n",
    "\n",
    "media = (nota1 + nota2 + nota3 + nota4)/4\n",
    "\n",
    "if idade >= 18:  # 1º CONDIÇÃO IDADE MAIOR QUE 18 FOI ATENDIDA IMPRIME AS NOTAS \n",
    "    print(30*\"-\",\"Boletim escolar!\",30*\"-\")\n",
    "    print(f\"Aluno: {nome}\")\n",
    "    print(f\"Nota 1 : {nota1}\")\n",
    "    print(f\"Nota 2 : {nota2}\")\n",
    "    print(f\"Nota 3 : {nota3}\")\n",
    "    print(f\"Nota 4 : {nota4}\")\n",
    "    print(f\"Media das notas : {media}\")\n",
    "    if media >= 7:  # IDENTADO JUNTO PAR APRESENTAR A MEDIA PRECISAMOR DA 2º CONDIÇÃO (MEDIA SER MAIOR QUE 7) E EXECUTA PRINT()\n",
    "        print(\"Parabéns, você está aprovado!\")\n",
    "    elif media >= 5: # CASO NAO ATENDA A CONDIÇÃO DE CIMA ELE VERIFICA SE A MEDIA É MAIOR QUE 5 E EXECUTA PRINT()\n",
    "        print(\"Você está de recuperação! :( \")\n",
    "    else: ## CASO NAO ATENDA NENHUMA DAS CONDIÇÕES SIGNIFICA QUE A MEIDA É MENOR QUE  5 E PORTANTO IMPRIME ESTA ULTIMA CONDIÇÃO \n",
    "        print(\"Que pena! Você foi reprovado!\")\n",
    "else:  ## CASO A PRIMEIRA CONDIÇÃO IDADE NAO FOR ATENDIDA O PROGAMA NAO APRESENTA NADA E IMPRIME , ELSE ( MENOR DE IDADE)\n",
    "    print(\"As notas so serão entregues a um responsável!\")"
   ]
  },
  {
   "cell_type": "markdown",
   "metadata": {},
   "source": [
    "## ESTRUTURAS DE CONTROLE DE FLUXO !-------(WHILE)\n",
    "- WHILE : É usado quando não se sabe exatamente quantas vezes o bloco de código deve ser executado, mas sim enquanto uma condição for verdadeira.\n",
    "\n"
   ]
  },
  {
   "cell_type": "code",
   "execution_count": 101,
   "metadata": {},
   "outputs": [
    {
     "name": "stdout",
     "output_type": "stream",
     "text": [
      "0\n",
      "1\n",
      "2\n",
      "3\n",
      "4\n",
      "5\n",
      "6\n",
      "7\n",
      "8\n",
      "9\n",
      "10\n"
     ]
    }
   ],
   "source": [
    "contagem = 0\n",
    "while contagem <=10:\n",
    "    print(contagem)\n",
    "    contagem += 1\n"
   ]
  },
  {
   "cell_type": "markdown",
   "metadata": {},
   "source": [
    "## ESTRUTURA DE CONTROLE DE FLUXO ------(FOR).\n",
    "- FOR : É usado quando se sabe exatamente quantas vezes o bloco de código deve ser repetido, ou para iterar sobre elementos em uma sequência ou objeto iterável conhecido."
   ]
  },
  {
   "cell_type": "code",
   "execution_count": 92,
   "metadata": {},
   "outputs": [
    {
     "name": "stdout",
     "output_type": "stream",
     "text": [
      "julia\n",
      "noah\n",
      "mariana\n",
      "victor\n"
     ]
    }
   ],
   "source": [
    "list_pessoas =['julia','noah','mariana','victor']\n",
    "\n",
    "for pessoas in list_pessoas:  ##para cada vez que o bloco de codigo se repete ele imprime em uma linha um elemento da lista.\n",
    "    print(pessoas)              ## print identado dentro de for para que a ação de for imprima para cada vez que ele foi executado."
   ]
  },
  {
   "cell_type": "markdown",
   "metadata": {},
   "source": [
    "## --------FUNÇÕES------------\n",
    "--------------range-------------len()------index()\n",
    "\n",
    "- RANGE : Gera uma sequência de números inteiros. É frequentemente utilizado em loops FOR para iterar sobre uma sequência específica de valores.\n",
    "\n",
    " \n",
    "- len(nomes)  ## retorna a (QUANTIDADE TOTAL) de elemntos dentro da lista nomes\n",
    "\n",
    "- index()  ## retorna o numero ((INDICE) exato do elemnto especificado)) "
   ]
  },
  {
   "cell_type": "code",
   "execution_count": 102,
   "metadata": {},
   "outputs": [
    {
     "name": "stdout",
     "output_type": "stream",
     "text": [
      "Números ímpares encontrados: 50\n",
      "Soma dos números ímpares: 2500\n"
     ]
    }
   ],
   "source": [
    "# Inicializando variáveis para contar números ímpares e armazenar a soma\n",
    "count_impares = 0\n",
    "soma_impares = 0\n",
    "\n",
    "# Inicializando o número inicial\n",
    "numero = 1\n",
    "\n",
    "# Loop while para contar números ímpares e calcular a soma\n",
    "while numero <= 100:\n",
    "    if numero % 2 != 0:  # Verifica se o número é ímpar\n",
    "        count_impares += 1  # Incrementa a contagem de números ímpares\n",
    "        soma_impares += numero  # Adiciona o número ímpar à soma total\n",
    "    numero += 1  # Incrementa para o próximo número\n",
    "\n",
    "# Exibindo o resultado\n",
    "print(f\"Números ímpares encontrados: {count_impares}\")\n",
    "print(f\"Soma dos números ímpares: {soma_impares}\")"
   ]
  },
  {
   "cell_type": "markdown",
   "metadata": {},
   "source": [
    "## aula 5\n"
   ]
  },
  {
   "cell_type": "code",
   "execution_count": 5,
   "metadata": {},
   "outputs": [
    {
     "name": "stdout",
     "output_type": "stream",
     "text": [
      "============================== Bem Vindo ao Sistema Python Cadastros ==============================\n",
      "1ºcadastrar usuario\n",
      "2º consultar usuario\n",
      "3ºacessar o sistema\n",
      "4ºremove um usuario\n",
      "5º sair\n",
      "o cpf ja esta cadastrado\n",
      "============================== Bem Vindo ao Sistema Python Cadastros ==============================\n",
      "1ºcadastrar usuario\n",
      "2º consultar usuario\n",
      "3ºacessar o sistema\n",
      "4ºremove um usuario\n",
      "5º sair\n",
      "============================== Bem Vindo ao Sistema Python Cadastros ==============================\n",
      "1ºcadastrar usuario\n",
      "2º consultar usuario\n",
      "3ºacessar o sistema\n",
      "4ºremove um usuario\n",
      "5º sair\n",
      "============================== Bem Vindo ao Sistema Python Cadastros ==============================\n",
      "1ºcadastrar usuario\n",
      "2º consultar usuario\n",
      "3ºacessar o sistema\n",
      "4ºremove um usuario\n",
      "5º sair\n",
      "============================== Bem Vindo ao Sistema Python Cadastros ==============================\n",
      "1ºcadastrar usuario\n",
      "2º consultar usuario\n",
      "3ºacessar o sistema\n",
      "4ºremove um usuario\n",
      "5º sair\n",
      "============================== Bem Vindo ao Sistema Python Cadastros ==============================\n",
      "1ºcadastrar usuario\n",
      "2º consultar usuario\n",
      "3ºacessar o sistema\n",
      "4ºremove um usuario\n",
      "5º sair\n",
      "============================== Bem Vindo ao Sistema Python Cadastros ==============================\n",
      "1ºcadastrar usuario\n",
      "2º consultar usuario\n",
      "3ºacessar o sistema\n",
      "4ºremove um usuario\n",
      "5º sair\n",
      "============================== Bem Vindo ao Sistema Python Cadastros ==============================\n",
      "1ºcadastrar usuario\n",
      "2º consultar usuario\n",
      "3ºacessar o sistema\n",
      "4ºremove um usuario\n",
      "5º sair\n",
      "saindo do sistema...\n"
     ]
    }
   ],
   "source": [
    "import os\n",
    "import time\n",
    "\n",
    "\n",
    "lista_cpf = ['06160728130','22222222','33333333','44444444']\n",
    "lista_de_usuarios = ['victor','hugo','silva','palmeira']\n",
    "os.system('cls')\n",
    "while True:\n",
    "\n",
    "    print(30*'=','Bem Vindo ao Sistema Python Cadastros',30*'=')\n",
    "    print('1ºcadastrar usuario')\n",
    "    print('2º consultar usuario')\n",
    "    print('3ºacessar o sistema')\n",
    "    print('4ºremove um usuario')\n",
    "    print('5º sair')\n",
    "\n",
    "    opcao = input('digite a opção desejada: ')\n",
    "\n",
    "    ## opção para cadastrar novo usuario\n",
    "    if opcao == '1' :\n",
    "        os.system('cls')\n",
    "        novo_nome =input('digite o nome que sera cadastrado:')\n",
    "        novo_cpf = input('digite um novo cpf:')\n",
    "\n",
    "        if novo_cpf in lista_cpf :\n",
    "            print('o cpf ja esta cadastrado')\n",
    "\n",
    "        else:\n",
    "            lista_cpf.append(novo_cpf)\n",
    "            lista_de_usuarios.append(novo_nome)\n",
    "\n",
    "    ## consultar usuarios\n",
    "    elif opcao == '2' :\n",
    "        os.system('cls')\n",
    "        for i in lista_de_usuarios:       ## duvida !!!!!\n",
    "            print(f'usuario : {i}')\n",
    "    ## opção para acessar o sistema \n",
    "    elif opcao =='3':\n",
    "        os.system('cls')\n",
    "        cpf_login=input('digite o cpf para entrar')\n",
    "\n",
    "        if cpf_login in lista_cpf :\n",
    "            print('acesso realizado com sucesso!')\n",
    "\n",
    "        else :\n",
    "            print('usuario nao possui cadastro!')\n",
    "\n",
    "        ## remover um ususario (opção 4 )\n",
    "\n",
    "    elif opcao == '4':\n",
    "        os.system('cls')\n",
    "        cpf_remove = input('digite um cpf cadastrado para ser removido')\n",
    "        if cpf_remove in lista_cpf:\n",
    "            indice = lista_cpf.index(cpf_remove)\n",
    "            nome = lista_de_usuarios.pop(indice)\n",
    "            lista_cpf.pop(indice)\n",
    "\n",
    "            print(f'usuario {nome}com o cpf{cpf_remove}foi removido!')\n",
    "\n",
    "        ## opção sair (5)\n",
    "    elif opcao == '5':\n",
    "        os.system('cls')\n",
    "        print('saindo do sistema...')\n",
    "        time.sleep(3)\n",
    "        break\n",
    "    else:\n",
    "        os.system('cls')\n",
    "\n"
   ]
  },
  {
   "cell_type": "code",
   "execution_count": null,
   "metadata": {},
   "outputs": [],
   "source": [
    "import random\n",
    "import os \n",
    "\n",
    "lista_de_palavras = ['python','progamaçãoi','computação','notebook','software','openai']\n",
    "\n",
    "palavra = random.choice(lista_de_palavras)\n",
    "letras_corretas=[]\n",
    "letras_erradas=[]\n",
    "tentativas = 6\n",
    "os.system('cls')\n",
    "while True:\n",
    "    palavras_escondida = ''\n",
    "    for letra in palavra:\n",
    "        if letra in letras_corretas:\n",
    "            palavras_escondida += letra\n",
    "\n",
    "        else:\n",
    "            palavras_escondida += '_'\n",
    "\n",
    "\n",
    "    print('palavra',palavras_escondida)\n",
    "    print('letras erradas:',letras_erradas)\n",
    "    print('tentativa restantes',tentativas)\n",
    "\n",
    "\n",
    "    if palavras_escondida == palavra:\n",
    "        print('voce acertou!')\n",
    "        break\n",
    "\n",
    "    elif tentativas ==0:\n",
    "        print('voce perdeu! , a palavra era ',palavra)\n",
    "        break\n",
    "    print(30*'=','JOGO DA FORCA',30*'=')    \n",
    "    letra_usuario = input('digite uma letra: ').lower()\n",
    "\n",
    "    ## verificando letras digitadas\n",
    "\n",
    "    if letra_usuario in palavra:\n",
    "        print('letra correta !')\n",
    "        letras_corretas.append(letra_usuario)\n",
    "\n",
    "    else:\n",
    "        print('letra incorreta!')\n",
    "        letras_erradas.append(letra_usuario)\n",
    "        tentativas -= 1 "
   ]
  },
  {
   "cell_type": "code",
   "execution_count": null,
   "metadata": {},
   "outputs": [],
   "source": [
    "import os\n",
    "\n",
    "tarefas = []\n",
    "\n",
    "while True:\n",
    "    os.system('cls' if os.name == 'nt' else 'clear')\n",
    "\n",
    "    if not tarefas:\n",
    "        print(\"A lista de tarefas está vazia.\")\n",
    "    else:\n",
    "        print(\"Lista de Tarefas:\")\n",
    "        for i, tarefa in enumerate(tarefas, start=1):\n",
    "            print(f\"{i}. {tarefa}\")\n",
    "\n",
    "    print(\"\\nEscolha uma opção:\")\n",
    "    print(\"1. Adicionar tarefa\")\n",
    "    print(\"2. Remover tarefa\")\n",
    "    print(\"3. Sair\")\n",
    "\n",
    "    opcao = input(\"Digite o número da opção: \")\n",
    "\n",
    "    if opcao == '1':\n",
    "        tarefa = input(\"Digite a tarefa que deseja adicionar: \")\n",
    "        tarefas.append(tarefa)\n",
    "    elif opcao == '2':\n",
    "        if tarefas:\n",
    "            try:\n",
    "                index = int(input(\"Digite o número da tarefa que deseja remover: \")) - 1\n",
    "                if 0 <= index < len(tarefas):\n",
    "                    tarefas.pop(index)\n",
    "                    print(\"Tarefa removida com sucesso!\")\n",
    "                else:\n",
    "                    print(\"Número da tarefa inválido.\")\n",
    "            except ValueError:\n",
    "                print(\"Por favor, digite um número válido.\")\n",
    "        else:\n",
    "            print(\"A lista de tarefas está vazia.\")\n",
    "    elif opcao == '3':\n",
    "        print(\"Saindo...\")\n",
    "        break\n",
    "    else:\n",
    "        print(\"Opção inválida. Tente novamente.\")\n",
    "\n",
    "    input(\"\\nPressione Enter para continuar...\")\n"
   ]
  },
  {
   "cell_type": "code",
   "execution_count": null,
   "metadata": {},
   "outputs": [],
   "source": [
    "import random\n",
    "import os\n",
    "\n",
    "def limpar_tela():\n",
    "    # Função para limpar a tela de acordo com o sistema operacional\n",
    "    if os.name == 'nt':  # Para Windows\n",
    "        os.system('cls')\n",
    "    else:  # Para sistemas Unix-like\n",
    "        os.system('clear')\n",
    "\n",
    "def main():\n",
    "    lista = []\n",
    "    lista_sorteados = []\n",
    "\n",
    "    print(\"Digite os nomes que serão sorteados. Pressione Enter sem digitar um nome para finalizar:\")\n",
    "    while True:\n",
    "        nome = input('Nome: ')\n",
    "        if nome:\n",
    "            lista.append(nome)\n",
    "        else:\n",
    "            break\n",
    "\n",
    "    if not lista:\n",
    "        print('Nenhum nome foi inserido. Sistema finalizado!')\n",
    "        return\n",
    "\n",
    "    while True:\n",
    "        if lista:\n",
    "            limpar_tela()\n",
    "            premiado = random.choice(lista)\n",
    "            lista_sorteados.append(premiado)\n",
    "            lista.remove(premiado)  # Remove o nome sorteado da lista original\n",
    "       \n",
    "            print(f'O premiado da vez é: {premiado}')\n",
    "\n",
    "            opcao = input('Deseja realizar um novo sorteio? (s/n): ').strip().lower()\n",
    "\n",
    "            if opcao != 's':\n",
    "                break\n",
    "        else:\n",
    "            print('Não há mais nomes para serem sorteados!')\n",
    "\n",
    "    print('Sistema finalizado!')\n",
    "    print(f'Nomes restantes: {lista}')\n",
    "    print(f'Nomes sorteados: {lista_sorteados}')\n",
    "\n",
    "if __name__ == \"__main__\":\n",
    "    main()\n"
   ]
  },
  {
   "cell_type": "markdown",
   "metadata": {},
   "source": [
    "#### Desafio 01\n",
    "- Crie um programa que realiza a contagem de 1 até 100, usando apenas números ímpares, ao final do processo exiba em tela quantos números ímpares foram emcontrados nesse intervalo, assim como a soma dos mesmos:"
   ]
  },
  {
   "cell_type": "code",
   "execution_count": 6,
   "metadata": {},
   "outputs": [
    {
     "name": "stdout",
     "output_type": "stream",
     "text": [
      "Foram encontrados: 50 numeros impares.\n",
      "a soma apenas dos numeros impares encontrados é igual a: 2500\n"
     ]
    }
   ],
   "source": [
    "# TODO: Resposta do desafio 01\n",
    "impares = 0 #variavel para segundo a CONDIÇÃO (IF) ir guardando apenas os impares .\n",
    "soma =0 # variavel para ir guardando a SOMA dos numeros impares \n",
    "numeros = 1 ##  VARIAVEL para fazer a contagem dos numeros \n",
    "\n",
    "while numeros <= 100: ##condição while para break ao chegar a 100.\n",
    "    if numeros % 2 !=0: ## condição if para que somente os numeros com divisão nao igual a 0 (ou seja IMPARES.)\n",
    "        impares +=1  ## QUANDO condição de impares for atendida ele incrementara na variavel = 1 assim fazendo a contagem.\n",
    "        soma += numeros # dentro desta condição incrementação usada para fazer a soma .\n",
    "    numeros += 1 ##\n",
    "\n",
    "print(f'Foram encontrados: {impares} numeros impares.')\n",
    "print(f'a soma apenas dos numeros impares encontrados é igual a: {soma}')"
   ]
  },
  {
   "cell_type": "markdown",
   "metadata": {},
   "source": [
    "#### Desafio 02\n",
    "- Crie uma lista de tarefas basica, onde você pode adicionar quantas tarefas você desejar\n",
    "    - Use While\n",
    "    - Use For\n",
    "    - Use if else\n",
    "    - Use os ('cls')"
   ]
  },
  {
   "cell_type": "code",
   "execution_count": null,
   "metadata": {},
   "outputs": [],
   "source": [
    "# TODO: Resposta do desafio 02\n",
    "lista =[]\n",
    "import os \n",
    "\n",
    "while True:\n",
    "    perg = input('quer adicionar uma nova tarefa:(sim/nao)?')\n",
    "    if perg == 'sim':\n",
    "        tarefa=input('digite a tarefa a ser adicionada:')\n",
    "        lista.append(tarefa)\n",
    "        print(f'A tarefa foi adicionada a sua: lista de tarefas com sucesso! '{tarefa}'')\n",
    "    \n",
    "    else:\n",
    "        break\n",
    "    os.system('cls')\n",
    "    for i in range(len(tarefa)):\n",
    "        print(f'{1+1} lista de tarefas: {tarefa[1]}')"
   ]
  },
  {
   "cell_type": "markdown",
   "metadata": {},
   "source": [
    "#### Desafio 03\n",
    "- Crie um programa que pede o usuario que o mesmo digite um número qualquer, em seguida retorne se esse número é primo ou não, caso não seja, retorne tambem a quantas vezes esse número é divisível:\n",
    "\n",
    "Número primo é aquele que apenas é divisível por 1 ou por ele mesmo, temos de criar essa condição lógica para poder solucionar esse exercício."
   ]
  },
  {
   "cell_type": "code",
   "execution_count": null,
   "metadata": {},
   "outputs": [],
   "source": [
    "# TODO: Resposta do desafio 03\n",
    "\n",
    "numero = int(input('Digite um número inteiro: '))\n",
    "divisao = 0\n",
    "\n",
    "for i in range(1, numero + 1):\n",
    "    if numero % i == 0:\n",
    "        divisao += 1\n",
    "\n",
    "if divisao == 2:\n",
    "    print(f'{numero} é primo!')\n",
    "    print(f'{numero} é divisível apenas por 1 e por {numero}!')\n",
    "else:\n",
    "    print(f'{numero} não é primo!')\n",
    "    print(f'{numero} é divisível {divisao} vezes.')\n",
    "\n",
    "print(f'Os divisores de {numero} são:', [i for i in range(1, numero + 1) if numero % i == 0])\n"
   ]
  },
  {
   "cell_type": "code",
   "execution_count": null,
   "metadata": {},
   "outputs": [],
   "source": [
    "\n",
    "import os\n",
    "import time\n",
    "\n",
    "cont = int(input(\"Digite um numero inteiro: \"))\n",
    "\n",
    "while cont >= 0:\n",
    "    os.system('cls')\n",
    "    print(f'Contagem regressiva: {cont}...')\n",
    "    time.sleep(1)\n",
    "    cont -=1\n",
    "\n",
    "os.system('cls')\n",
    "import os\n",
    "import time\n",
    "\n",
    "cont = int(input(\"Digite um numero inteiro: \"))\n",
    "\n",
    "while cont >= 0:\n",
    "    os.system('cls')\n",
    "    print(f'Contagem regressiva: {cont}...')\n",
    "    time.sleep(1)\n",
    "    cont -=1\n",
    "\n",
    "os.system('cls')\n",
    "print('BOOOOOOOOOOOOOMMMMMMMMMMM!!!!')"
   ]
  }
 ],
 "metadata": {
  "kernelspec": {
   "display_name": ".venv",
   "language": "python",
   "name": "python3"
  },
  "language_info": {
   "codemirror_mode": {
    "name": "ipython",
    "version": 3
   },
   "file_extension": ".py",
   "mimetype": "text/x-python",
   "name": "python",
   "nbconvert_exporter": "python",
   "pygments_lexer": "ipython3",
   "version": "3.12.4"
  }
 },
 "nbformat": 4,
 "nbformat_minor": 2
}
